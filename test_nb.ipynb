{
 "cells": [
  {
   "cell_type": "code",
   "execution_count": 2,
   "id": "154f21e8",
   "metadata": {},
   "outputs": [],
   "source": [
    "import requests\n",
    "\n",
    "api_key = \"da292408ed3c40d98e1125249252408\""
   ]
  },
  {
   "cell_type": "code",
   "execution_count": 3,
   "id": "8d902a40",
   "metadata": {},
   "outputs": [],
   "source": [
    "base_url = \"http://api.weatherapi.com/v1\"\n",
    "current_url = f\"{base_url}/current.json\"\n",
    "history_url = f\"{base_url}/history.json\""
   ]
  },
  {
   "cell_type": "code",
   "execution_count": null,
   "id": "3e5f9f1a",
   "metadata": {},
   "outputs": [],
   "source": [
    "base_url = \"http://api.weatherapi.com/v1\"\n",
    "current_url = f\"{base_url}/current.json\"\n",
    "history_url = f\"{base_url}/history.json\"\n",
    "response = requests.get(current_url, params={\"q\": \"Hyderabad\", \"key\": api_key, \"aqi\": \"yes\"})"
   ]
  },
  {
   "cell_type": "code",
   "execution_count": 22,
   "id": "3670f557",
   "metadata": {},
   "outputs": [
    {
     "data": {
      "text/plain": [
       "200"
      ]
     },
     "execution_count": 22,
     "metadata": {},
     "output_type": "execute_result"
    }
   ],
   "source": [
    "response.status_code"
   ]
  },
  {
   "cell_type": "code",
   "execution_count": 23,
   "id": "b464d581",
   "metadata": {},
   "outputs": [],
   "source": [
    "response_json = response.json()"
   ]
  },
  {
   "cell_type": "code",
   "execution_count": 24,
   "id": "3967cf0d",
   "metadata": {},
   "outputs": [
    {
     "name": "stdout",
     "output_type": "stream",
     "text": [
      "{'last_updated_epoch': 1756047600, 'last_updated': '2025-08-24 20:30', 'temp_c': 27.2, 'temp_f': 81.0, 'is_day': 0, 'condition': {'text': 'Partly cloudy', 'icon': '//cdn.weatherapi.com/weather/64x64/night/116.png', 'code': 1003}, 'wind_mph': 8.7, 'wind_kph': 14.0, 'wind_degree': 274, 'wind_dir': 'W', 'pressure_mb': 1010.0, 'pressure_in': 29.83, 'precip_mm': 0.0, 'precip_in': 0.0, 'humidity': 66, 'cloud': 50, 'feelslike_c': 30.2, 'feelslike_f': 86.3, 'windchill_c': 24.0, 'windchill_f': 75.2, 'heatindex_c': 25.8, 'heatindex_f': 78.4, 'dewpoint_c': 19.5, 'dewpoint_f': 67.1, 'vis_km': 6.0, 'vis_miles': 3.0, 'uv': 0.0, 'gust_mph': 15.8, 'gust_kph': 25.4, 'air_quality': {'co': 475.45, 'no2': 4.995, 'o3': 73.0, 'so2': 3.885, 'pm2_5': 11.655, 'pm10': 17.575, 'us-epa-index': 1, 'gb-defra-index': 1}, 'short_rad': 0, 'diff_rad': 0, 'dni': 0, 'gti': 0}\n"
     ]
    }
   ],
   "source": [
    "print(response_json[\"current\"])"
   ]
  },
  {
   "cell_type": "code",
   "execution_count": 28,
   "id": "400da475",
   "metadata": {},
   "outputs": [],
   "source": [
    "cities = [\"Bangalore\", \"Hyderabad\", \"Chennai\", \"New Delhi\", \"Mumbai\"]"
   ]
  },
  {
   "cell_type": "code",
   "execution_count": 29,
   "id": "59bf9c4e",
   "metadata": {},
   "outputs": [],
   "source": [
    "responses = []"
   ]
  },
  {
   "cell_type": "code",
   "execution_count": 30,
   "id": "fdd05c8b",
   "metadata": {},
   "outputs": [],
   "source": [
    "for city in cities:\n",
    "    response = requests.get(current_url, params={\"q\": city, \"key\": api_key, \"aqi\": \"yes\"})\n",
    "    if response.status_code != 200:\n",
    "        raise Exception(f\"request for {city} failed\", response.text)\n",
    "    responses.append(response.json())"
   ]
  },
  {
   "cell_type": "code",
   "execution_count": 54,
   "id": "c69eefc4",
   "metadata": {},
   "outputs": [
    {
     "data": {
      "text/plain": [
       "{'name': 'Hyderabad',\n",
       " 'region': 'Telangana',\n",
       " 'country': 'India',\n",
       " 'lat': 17.3753,\n",
       " 'lon': 78.4744,\n",
       " 'tz_id': 'Asia/Kolkata',\n",
       " 'localtime_epoch': 1756050748,\n",
       " 'localtime': '2025-08-24 21:22'}"
      ]
     },
     "execution_count": 54,
     "metadata": {},
     "output_type": "execute_result"
    }
   ],
   "source": [
    "responses[1][\"location\"]"
   ]
  },
  {
   "cell_type": "code",
   "execution_count": 61,
   "id": "9a231b4f",
   "metadata": {},
   "outputs": [],
   "source": [
    "response = requests.get(history_url, params={\"q\": \"Hyderabad\", \"key\": api_key, \"aqi\": \"yes\", \"dt\": \"2025-08-15\", \"hour\": 0})"
   ]
  },
  {
   "cell_type": "code",
   "execution_count": 62,
   "id": "6b6d5e2f",
   "metadata": {},
   "outputs": [
    {
     "data": {
      "text/plain": [
       "200"
      ]
     },
     "execution_count": 62,
     "metadata": {},
     "output_type": "execute_result"
    }
   ],
   "source": [
    "response.status_code"
   ]
  },
  {
   "cell_type": "code",
   "execution_count": 63,
   "id": "593d8854",
   "metadata": {},
   "outputs": [
    {
     "data": {
      "text/plain": [
       "{'location': {'name': 'Hyderabad',\n",
       "  'region': 'Telangana',\n",
       "  'country': 'India',\n",
       "  'lat': 17.3753,\n",
       "  'lon': 78.4744,\n",
       "  'tz_id': 'Asia/Kolkata',\n",
       "  'localtime_epoch': 1756060068,\n",
       "  'localtime': '2025-08-24 23:57'},\n",
       " 'forecast': {'forecastday': [{'date': '2025-08-15',\n",
       "    'date_epoch': 1755216000,\n",
       "    'day': {'maxtemp_c': 25.0,\n",
       "     'maxtemp_f': 77.0,\n",
       "     'mintemp_c': 21.3,\n",
       "     'mintemp_f': 70.3,\n",
       "     'avgtemp_c': 22.5,\n",
       "     'avgtemp_f': 72.5,\n",
       "     'maxwind_mph': 16.3,\n",
       "     'maxwind_kph': 26.3,\n",
       "     'totalprecip_mm': 4.4,\n",
       "     'totalprecip_in': 0.17,\n",
       "     'totalsnow_cm': 0.0,\n",
       "     'avgvis_km': 9.6,\n",
       "     'avgvis_miles': 5.0,\n",
       "     'avghumidity': 89,\n",
       "     'daily_will_it_rain': 1,\n",
       "     'daily_chance_of_rain': 100,\n",
       "     'daily_will_it_snow': 0,\n",
       "     'daily_chance_of_snow': 0,\n",
       "     'condition': {'text': 'Light rain shower',\n",
       "      'icon': '//cdn.weatherapi.com/weather/64x64/day/353.png',\n",
       "      'code': 1240},\n",
       "     'uv': 6.0},\n",
       "    'astro': {'sunrise': '05:59 AM',\n",
       "     'sunset': '06:42 PM',\n",
       "     'moonrise': '11:03 PM',\n",
       "     'moonset': '11:29 AM',\n",
       "     'moon_phase': 'Waning Gibbous',\n",
       "     'moon_illumination': 66},\n",
       "    'hour': [{'time_epoch': 1755196200,\n",
       "      'time': '2025-08-15 00:00',\n",
       "      'temp_c': 21.8,\n",
       "      'temp_f': 71.2,\n",
       "      'is_day': 0,\n",
       "      'condition': {'text': 'Patchy rain possible',\n",
       "       'icon': '//cdn.weatherapi.com/weather/64x64/night/176.png',\n",
       "       'code': 1063},\n",
       "      'wind_mph': 15.9,\n",
       "      'wind_kph': 25.6,\n",
       "      'wind_degree': 265,\n",
       "      'wind_dir': 'W',\n",
       "      'pressure_mb': 1005.0,\n",
       "      'pressure_in': 29.66,\n",
       "      'precip_mm': 0.0,\n",
       "      'precip_in': 0.0,\n",
       "      'snow_cm': 0.0,\n",
       "      'humidity': 92,\n",
       "      'cloud': 100,\n",
       "      'feelslike_c': 21.8,\n",
       "      'feelslike_f': 71.2,\n",
       "      'windchill_c': 21.8,\n",
       "      'windchill_f': 71.2,\n",
       "      'heatindex_c': 24.4,\n",
       "      'heatindex_f': 75.9,\n",
       "      'dewpoint_c': 20.4,\n",
       "      'dewpoint_f': 68.7,\n",
       "      'will_it_rain': 0,\n",
       "      'chance_of_rain': 0,\n",
       "      'will_it_snow': 0,\n",
       "      'chance_of_snow': 0,\n",
       "      'vis_km': 10.0,\n",
       "      'vis_miles': 6.0,\n",
       "      'gust_mph': 21.9,\n",
       "      'gust_kph': 35.3,\n",
       "      'uv': 0.0}]}]}}"
      ]
     },
     "execution_count": 63,
     "metadata": {},
     "output_type": "execute_result"
    }
   ],
   "source": [
    "response.json()"
   ]
  },
  {
   "cell_type": "code",
   "execution_count": 57,
   "id": "b933231b",
   "metadata": {},
   "outputs": [
    {
     "data": {
      "text/plain": [
       "{'last_updated_epoch': 1756050300,\n",
       " 'last_updated': '2025-08-24 21:15',\n",
       " 'temp_c': 24.3,\n",
       " 'temp_f': 75.7,\n",
       " 'is_day': 0,\n",
       " 'condition': {'text': 'Partly cloudy',\n",
       "  'icon': '//cdn.weatherapi.com/weather/64x64/night/116.png',\n",
       "  'code': 1003},\n",
       " 'wind_mph': 9.8,\n",
       " 'wind_kph': 15.8,\n",
       " 'wind_degree': 289,\n",
       " 'wind_dir': 'WNW',\n",
       " 'pressure_mb': 1015.0,\n",
       " 'pressure_in': 29.97,\n",
       " 'precip_mm': 0.0,\n",
       " 'precip_in': 0.0,\n",
       " 'humidity': 74,\n",
       " 'cloud': 50,\n",
       " 'feelslike_c': 25.8,\n",
       " 'feelslike_f': 78.5,\n",
       " 'windchill_c': 23.7,\n",
       " 'windchill_f': 74.6,\n",
       " 'heatindex_c': 25.3,\n",
       " 'heatindex_f': 77.6,\n",
       " 'dewpoint_c': 16.8,\n",
       " 'dewpoint_f': 62.3,\n",
       " 'vis_km': 6.0,\n",
       " 'vis_miles': 3.0,\n",
       " 'uv': 0.0,\n",
       " 'gust_mph': 14.5,\n",
       " 'gust_kph': 23.4,\n",
       " 'air_quality': {'co': 518.0,\n",
       "  'no2': 20.72,\n",
       "  'o3': 61.0,\n",
       "  'so2': 7.03,\n",
       "  'pm2_5': 17.205,\n",
       "  'pm10': 34.225,\n",
       "  'us-epa-index': 2,\n",
       "  'gb-defra-index': 2},\n",
       " 'short_rad': 0,\n",
       " 'diff_rad': 0,\n",
       " 'dni': 0,\n",
       " 'gti': 0}"
      ]
     },
     "execution_count": 57,
     "metadata": {},
     "output_type": "execute_result"
    }
   ],
   "source": [
    "responses[0][\"current\"]"
   ]
  },
  {
   "cell_type": "code",
   "execution_count": 46,
   "id": "f24875f4",
   "metadata": {},
   "outputs": [
    {
     "data": {
      "text/plain": [
       "dict_keys(['date', 'date_epoch', 'day', 'astro', 'hour'])"
      ]
     },
     "execution_count": 46,
     "metadata": {},
     "output_type": "execute_result"
    }
   ],
   "source": [
    "response.json()[\"forecast\"][\"forecastday\"][0].keys()"
   ]
  },
  {
   "cell_type": "code",
   "execution_count": 50,
   "id": "0c4904ed",
   "metadata": {},
   "outputs": [
    {
     "data": {
      "text/plain": [
       "[{'time_epoch': 1755664200,\n",
       "  'time': '2025-08-20 10:00',\n",
       "  'temp_c': 24.4,\n",
       "  'temp_f': 75.9,\n",
       "  'is_day': 1,\n",
       "  'condition': {'text': 'Partly cloudy',\n",
       "   'icon': '//cdn.weatherapi.com/weather/64x64/day/116.png',\n",
       "   'code': 1003},\n",
       "  'wind_mph': 17.7,\n",
       "  'wind_kph': 28.4,\n",
       "  'wind_degree': 258,\n",
       "  'wind_dir': 'WSW',\n",
       "  'pressure_mb': 1007.0,\n",
       "  'pressure_in': 29.74,\n",
       "  'precip_mm': 0.0,\n",
       "  'precip_in': 0.0,\n",
       "  'snow_cm': 0.0,\n",
       "  'humidity': 82,\n",
       "  'cloud': 60,\n",
       "  'feelslike_c': 26.5,\n",
       "  'feelslike_f': 79.7,\n",
       "  'windchill_c': 24.4,\n",
       "  'windchill_f': 75.9,\n",
       "  'heatindex_c': 26.5,\n",
       "  'heatindex_f': 79.7,\n",
       "  'dewpoint_c': 21.1,\n",
       "  'dewpoint_f': 70.0,\n",
       "  'will_it_rain': 0,\n",
       "  'chance_of_rain': 0,\n",
       "  'will_it_snow': 0,\n",
       "  'chance_of_snow': 0,\n",
       "  'vis_km': 10.0,\n",
       "  'vis_miles': 6.0,\n",
       "  'gust_mph': 21.0,\n",
       "  'gust_kph': 33.8,\n",
       "  'uv': 5.1}]"
      ]
     },
     "execution_count": 50,
     "metadata": {},
     "output_type": "execute_result"
    }
   ],
   "source": [
    "response.json()[\"forecast\"][\"forecastday\"][0][\"hour\"]"
   ]
  },
  {
   "cell_type": "code",
   "execution_count": 51,
   "id": "ef988f62",
   "metadata": {},
   "outputs": [
    {
     "data": {
      "text/plain": [
       "{'last_updated_epoch': 1756050300,\n",
       " 'last_updated': '2025-08-24 21:15',\n",
       " 'temp_c': 24.3,\n",
       " 'temp_f': 75.7,\n",
       " 'is_day': 0,\n",
       " 'condition': {'text': 'Partly cloudy',\n",
       "  'icon': '//cdn.weatherapi.com/weather/64x64/night/116.png',\n",
       "  'code': 1003},\n",
       " 'wind_mph': 9.8,\n",
       " 'wind_kph': 15.8,\n",
       " 'wind_degree': 289,\n",
       " 'wind_dir': 'WNW',\n",
       " 'pressure_mb': 1015.0,\n",
       " 'pressure_in': 29.97,\n",
       " 'precip_mm': 0.0,\n",
       " 'precip_in': 0.0,\n",
       " 'humidity': 74,\n",
       " 'cloud': 50,\n",
       " 'feelslike_c': 25.8,\n",
       " 'feelslike_f': 78.5,\n",
       " 'windchill_c': 23.7,\n",
       " 'windchill_f': 74.6,\n",
       " 'heatindex_c': 25.3,\n",
       " 'heatindex_f': 77.6,\n",
       " 'dewpoint_c': 16.8,\n",
       " 'dewpoint_f': 62.3,\n",
       " 'vis_km': 6.0,\n",
       " 'vis_miles': 3.0,\n",
       " 'uv': 0.0,\n",
       " 'gust_mph': 14.5,\n",
       " 'gust_kph': 23.4,\n",
       " 'air_quality': {'co': 518.0,\n",
       "  'no2': 20.72,\n",
       "  'o3': 61.0,\n",
       "  'so2': 7.03,\n",
       "  'pm2_5': 17.205,\n",
       "  'pm10': 34.225,\n",
       "  'us-epa-index': 2,\n",
       "  'gb-defra-index': 2},\n",
       " 'short_rad': 0,\n",
       " 'diff_rad': 0,\n",
       " 'dni': 0,\n",
       " 'gti': 0}"
      ]
     },
     "execution_count": 51,
     "metadata": {},
     "output_type": "execute_result"
    }
   ],
   "source": [
    "responses[0][\"current\"]"
   ]
  },
  {
   "cell_type": "code",
   "execution_count": null,
   "id": "d8d8072d",
   "metadata": {},
   "outputs": [],
   "source": []
  }
 ],
 "metadata": {
  "kernelspec": {
   "display_name": "venv",
   "language": "python",
   "name": "python3"
  },
  "language_info": {
   "codemirror_mode": {
    "name": "ipython",
    "version": 3
   },
   "file_extension": ".py",
   "mimetype": "text/x-python",
   "name": "python",
   "nbconvert_exporter": "python",
   "pygments_lexer": "ipython3",
   "version": "3.12.3"
  }
 },
 "nbformat": 4,
 "nbformat_minor": 5
}
